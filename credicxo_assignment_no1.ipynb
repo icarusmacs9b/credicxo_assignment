{
 "cells": [
  {
   "cell_type": "code",
   "execution_count": 1,
   "id": "ceb3ef2f",
   "metadata": {},
   "outputs": [],
   "source": [
    "import json\n",
    "import requests\n",
    "from bs4 import BeautifulSoup"
   ]
  },
  {
   "cell_type": "code",
   "execution_count": 2,
   "id": "fa88d0e6",
   "metadata": {},
   "outputs": [],
   "source": [
    "url = 'https://www.midsouthshooterssupply.com/dept/reloading/primers?currentpage=1'\n",
    "downloded_html = requests.get(url=url)\n",
    "soup = BeautifulSoup(downloded_html.text)"
   ]
  },
  {
   "cell_type": "code",
   "execution_count": 3,
   "id": "7aeddc08",
   "metadata": {},
   "outputs": [],
   "source": [
    "with open('index.html', 'w', encoding='utf-8') as file:\n",
    "    file.write(soup.prettify())"
   ]
  },
  {
   "cell_type": "code",
   "execution_count": 4,
   "id": "5a4ec1e0",
   "metadata": {},
   "outputs": [],
   "source": [
    "products = soup.select('.product-container #Div1.product')"
   ]
  },
  {
   "cell_type": "code",
   "execution_count": 5,
   "id": "b890d73a",
   "metadata": {},
   "outputs": [],
   "source": [
    "products_container = []\n",
    "for about_product in products:\n",
    "    # first scrape all thing that needed\n",
    "    product_details = about_product.get_text(separator=\" \", strip=True).split('|')\n",
    "    product = dict()\n",
    "    title = product_details[0].strip()\n",
    "    rest_thing = product_details[1].split()\n",
    "    maftr = rest_thing[0].strip()\n",
    "    price = float(rest_thing[1][1:])\n",
    "    status_val = ' '.join(rest_thing[2:]).lower()\n",
    "    stock = True\n",
    "    if status_val == 'out of stock':\n",
    "        stock = False\n",
    "    product['price'] = price\n",
    "    product['title'] = title\n",
    "    product['stock'] = stock\n",
    "    product['maftr'] = maftr\n",
    "    products_container.append(product)"
   ]
  },
  {
   "cell_type": "code",
   "execution_count": 6,
   "id": "c6d2722b",
   "metadata": {},
   "outputs": [],
   "source": [
    "json_object = json.dumps(products_container, indent = 4)\n",
    "with open(\"prduct_data.json\", \"w\") as outfile:\n",
    "    outfile.write(json_object)"
   ]
  },
  {
   "cell_type": "code",
   "execution_count": null,
   "id": "29f3f59c",
   "metadata": {},
   "outputs": [],
   "source": []
  },
  {
   "cell_type": "code",
   "execution_count": null,
   "id": "21e2970e",
   "metadata": {},
   "outputs": [],
   "source": []
  },
  {
   "cell_type": "code",
   "execution_count": null,
   "id": "6de021bf",
   "metadata": {},
   "outputs": [],
   "source": []
  }
 ],
 "metadata": {
  "kernelspec": {
   "display_name": "Python 3",
   "language": "python",
   "name": "python3"
  },
  "language_info": {
   "codemirror_mode": {
    "name": "ipython",
    "version": 3
   },
   "file_extension": ".py",
   "mimetype": "text/x-python",
   "name": "python",
   "nbconvert_exporter": "python",
   "pygments_lexer": "ipython3",
   "version": "3.8.11"
  }
 },
 "nbformat": 4,
 "nbformat_minor": 5
}
