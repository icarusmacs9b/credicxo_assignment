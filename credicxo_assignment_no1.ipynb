{
 "cells": [
  {
   "cell_type": "markdown",
   "id": "a25d912f",
   "metadata": {},
   "source": [
    "# import packages"
   ]
  },
  {
   "cell_type": "code",
   "execution_count": 1,
   "id": "ceb3ef2f",
   "metadata": {},
   "outputs": [],
   "source": [
    "import json\n",
    "import requests\n",
    "from bs4 import BeautifulSoup"
   ]
  },
  {
   "cell_type": "markdown",
   "id": "d64c9072",
   "metadata": {},
   "source": [
    "# Scrap the data from the given URL"
   ]
  },
  {
   "cell_type": "code",
   "execution_count": 2,
   "id": "fa88d0e6",
   "metadata": {},
   "outputs": [],
   "source": [
    "# url of the website from which we have to scrap the data\n",
    "url = 'https://www.midsouthshooterssupply.com/dept/reloading/primers?currentpage=1'\n",
    "downloded_html = requests.get(url=url)\n",
    "\n",
    "# Now save the whole data using a BeautifulSoup\n",
    "soup = BeautifulSoup(downloded_html.text)"
   ]
  },
  {
   "cell_type": "markdown",
   "id": "08fb01b9",
   "metadata": {},
   "source": [
    "# Save a html file in the local disk"
   ]
  },
  {
   "cell_type": "code",
   "execution_count": 3,
   "id": "69dcd541",
   "metadata": {},
   "outputs": [],
   "source": [
    "with open('index.html', 'w', encoding='utf-8') as file:\n",
    "    file.write(soup.prettify())"
   ]
  },
  {
   "cell_type": "markdown",
   "id": "40db65ae",
   "metadata": {},
   "source": [
    "# Select the container which contain all information about the Products"
   ]
  },
  {
   "cell_type": "code",
   "execution_count": 4,
   "id": "5a4ec1e0",
   "metadata": {},
   "outputs": [],
   "source": [
    "products = soup.select('.product-container #Div1.product')"
   ]
  },
  {
   "cell_type": "markdown",
   "id": "35be6a59",
   "metadata": {},
   "source": [
    "# Now extract the required data from products"
   ]
  },
  {
   "cell_type": "markdown",
   "id": "a32e9994",
   "metadata": {},
   "source": [
    "Requirements : - \n",
    "\n",
    "    First scrape the required fields that are listed below:\n",
    "        a) Price in dollars. \n",
    "        b) Title. \n",
    "        c) Stock status \n",
    "                i.e. in-stock or out-stock. If in-stock then the value would true and for out-stock value should be false. \n",
    "        d) Manufacturer \n",
    "                i.e. Remington, Winchester, etc."
   ]
  },
  {
   "cell_type": "code",
   "execution_count": 5,
   "id": "b890d73a",
   "metadata": {},
   "outputs": [],
   "source": [
    "# create a list which contaion the all products details\n",
    "products_container = []\n",
    "\n",
    "for about_product in products:\n",
    "    \n",
    "    # create a dictionary for a product\n",
    "    product = dict()\n",
    "    \n",
    "    # first scrape all thing that needed\n",
    "    product_details = about_product.get_text(separator=\" \", strip=True).split('|')\n",
    "    \n",
    "    # fisrt extract the title of the product\n",
    "    title = product_details[0].strip()\n",
    "    rest_thing = product_details[1].split()\n",
    "    \n",
    "    # now extract Manufacturer\n",
    "    maftr = rest_thing[0].strip()\n",
    "    \n",
    "    # Now extract the price of the product\n",
    "    price = float(rest_thing[1][1:])\n",
    "    \n",
    "    # Now extract the status_val which contain the status of the product, status = True, If the product is in Stock\n",
    "    status_val = ' '.join(rest_thing[2:]).lower()\n",
    "    stock = True\n",
    "    if status_val == 'out of stock':\n",
    "        stock = False\n",
    "        \n",
    "    # Now set the key and value of the product in dictionary: product_details\n",
    "    product['price'] = price\n",
    "    product['title'] = title\n",
    "    product['stock'] = stock\n",
    "    product['maftr'] = maftr\n",
    "    \n",
    "    # append every dictionary to the list\n",
    "    products_container.append(product)"
   ]
  },
  {
   "cell_type": "markdown",
   "id": "be9c98d0",
   "metadata": {},
   "source": [
    "# Save a dictionary into json format"
   ]
  },
  {
   "cell_type": "code",
   "execution_count": 6,
   "id": "c6d2722b",
   "metadata": {},
   "outputs": [],
   "source": [
    "# create a json object of the products_container \n",
    "json_object = json.dumps(products_container, indent = 4)\n",
    "with open(\"prduct_data.json\", \"w\") as outfile:\n",
    "    outfile.write(json_object)"
   ]
  },
  {
   "cell_type": "code",
   "execution_count": null,
   "id": "be2d2e72",
   "metadata": {},
   "outputs": [],
   "source": []
  }
 ],
 "metadata": {
  "kernelspec": {
   "display_name": "Python 3",
   "language": "python",
   "name": "python3"
  },
  "language_info": {
   "codemirror_mode": {
    "name": "ipython",
    "version": 3
   },
   "file_extension": ".py",
   "mimetype": "text/x-python",
   "name": "python",
   "nbconvert_exporter": "python",
   "pygments_lexer": "ipython3",
   "version": "3.8.11"
  }
 },
 "nbformat": 4,
 "nbformat_minor": 5
}
